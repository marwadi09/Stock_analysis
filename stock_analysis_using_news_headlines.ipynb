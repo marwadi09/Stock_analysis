{
 "cells": [
  {
   "cell_type": "code",
   "execution_count": 1,
   "id": "712cee27",
   "metadata": {},
   "outputs": [],
   "source": [
    "from bs4 import BeautifulSoup"
   ]
  },
  {
   "cell_type": "code",
   "execution_count": 3,
   "id": "e7c9c913",
   "metadata": {},
   "outputs": [],
   "source": [
    "import requests"
   ]
  },
  {
   "cell_type": "code",
   "execution_count": 4,
   "id": "a6399048",
   "metadata": {},
   "outputs": [],
   "source": [
    "from nltk.sentiment.vader import SentimentIntensityAnalyzer\n",
    "import pandas as pd\n",
    "import matplotlib.pyplot as plt"
   ]
  },
  {
   "cell_type": "code",
   "execution_count": 32,
   "id": "1a824b92",
   "metadata": {},
   "outputs": [],
   "source": [
    "finviz_url = 'https://finviz.com/quote.ashx?t='\n",
    "tickers = ['AMZN', 'GOOG']\n",
    "\n",
    "news_tables = {}"
   ]
  },
  {
   "cell_type": "code",
   "execution_count": 8,
   "id": "c4a3f89c",
   "metadata": {},
   "outputs": [],
   "source": [
    "import urllib"
   ]
  },
  {
   "cell_type": "code",
   "execution_count": 68,
   "id": "1170b8ae",
   "metadata": {},
   "outputs": [],
   "source": [
    "for ticker in tickers:\n",
    "    url = finviz_url + ticker\n",
    "\n",
    "    req = requests.get(url=url, headers={'user-agent': 'my-app'})\n",
    "    html = BeautifulSoup(req.text, features='html.parser')\n",
    "    news_table = html.find(id='news-table')\n",
    "    news_tables[ticker] = news_table\n",
    "\n",
    "parsed_data = []"
   ]
  },
  {
   "cell_type": "code",
   "execution_count": 69,
   "id": "6d5f6abf",
   "metadata": {},
   "outputs": [],
   "source": [
    "for ticker, news_table in news_tables.items():\n",
    "\n",
    "    for row in news_table.find_all('tr'):\n",
    "\n",
    "        title = row.a.text\n",
    "        date_data = row.td.text.replace('\\r\\n','').strip().split(' ')\n",
    "\n",
    "        if len(date_data) == 1:\n",
    "            time = date_data[0]\n",
    "        else:\n",
    "            date = date_data[0]\n",
    "            time = date_data[1]\n",
    "\n",
    "        parsed_data.append([ticker, date, time, title])"
   ]
  },
  {
   "cell_type": "code",
   "execution_count": 74,
   "id": "57ee70f8",
   "metadata": {},
   "outputs": [],
   "source": [
    "df = pd.DataFrame(parsed_data, columns=['ticker', 'date', 'time', 'title'])"
   ]
  },
  {
   "cell_type": "code",
   "execution_count": 75,
   "id": "6e4ba00b",
   "metadata": {},
   "outputs": [
    {
     "data": {
      "text/html": [
       "<div>\n",
       "<style scoped>\n",
       "    .dataframe tbody tr th:only-of-type {\n",
       "        vertical-align: middle;\n",
       "    }\n",
       "\n",
       "    .dataframe tbody tr th {\n",
       "        vertical-align: top;\n",
       "    }\n",
       "\n",
       "    .dataframe thead th {\n",
       "        text-align: right;\n",
       "    }\n",
       "</style>\n",
       "<table border=\"1\" class=\"dataframe\">\n",
       "  <thead>\n",
       "    <tr style=\"text-align: right;\">\n",
       "      <th></th>\n",
       "      <th>ticker</th>\n",
       "      <th>date</th>\n",
       "      <th>time</th>\n",
       "      <th>title</th>\n",
       "    </tr>\n",
       "  </thead>\n",
       "  <tbody>\n",
       "    <tr>\n",
       "      <th>0</th>\n",
       "      <td>AMZN</td>\n",
       "      <td>Today</td>\n",
       "      <td>06:00PM</td>\n",
       "      <td>The 10 Best Kirkland Products at Costco</td>\n",
       "    </tr>\n",
       "    <tr>\n",
       "      <th>1</th>\n",
       "      <td>AMZN</td>\n",
       "      <td>Today</td>\n",
       "      <td>11:02AM</td>\n",
       "      <td>15 Spectacular Floating Hotels Around The World</td>\n",
       "    </tr>\n",
       "    <tr>\n",
       "      <th>2</th>\n",
       "      <td>AMZN</td>\n",
       "      <td>Today</td>\n",
       "      <td>10:47AM</td>\n",
       "      <td>3 No-Brainer Stocks to Buy Right Now With $1,0...</td>\n",
       "    </tr>\n",
       "    <tr>\n",
       "      <th>3</th>\n",
       "      <td>AMZN</td>\n",
       "      <td>Today</td>\n",
       "      <td>08:30AM</td>\n",
       "      <td>3 Magnificent Stocks That I'm \"Never\" Selling</td>\n",
       "    </tr>\n",
       "    <tr>\n",
       "      <th>4</th>\n",
       "      <td>AMZN</td>\n",
       "      <td>Today</td>\n",
       "      <td>06:35AM</td>\n",
       "      <td>Forget Nvidia: This Artificial Intelligence (A...</td>\n",
       "    </tr>\n",
       "  </tbody>\n",
       "</table>\n",
       "</div>"
      ],
      "text/plain": [
       "  ticker   date     time                                              title\n",
       "0   AMZN  Today  06:00PM            The 10 Best Kirkland Products at Costco\n",
       "1   AMZN  Today  11:02AM    15 Spectacular Floating Hotels Around The World\n",
       "2   AMZN  Today  10:47AM  3 No-Brainer Stocks to Buy Right Now With $1,0...\n",
       "3   AMZN  Today  08:30AM      3 Magnificent Stocks That I'm \"Never\" Selling\n",
       "4   AMZN  Today  06:35AM  Forget Nvidia: This Artificial Intelligence (A..."
      ]
     },
     "execution_count": 75,
     "metadata": {},
     "output_type": "execute_result"
    }
   ],
   "source": [
    "df.head()"
   ]
  },
  {
   "cell_type": "code",
   "execution_count": 76,
   "id": "c32b8db4",
   "metadata": {},
   "outputs": [
    {
     "data": {
      "text/html": [
       "<div>\n",
       "<style scoped>\n",
       "    .dataframe tbody tr th:only-of-type {\n",
       "        vertical-align: middle;\n",
       "    }\n",
       "\n",
       "    .dataframe tbody tr th {\n",
       "        vertical-align: top;\n",
       "    }\n",
       "\n",
       "    .dataframe thead th {\n",
       "        text-align: right;\n",
       "    }\n",
       "</style>\n",
       "<table border=\"1\" class=\"dataframe\">\n",
       "  <thead>\n",
       "    <tr style=\"text-align: right;\">\n",
       "      <th></th>\n",
       "      <th>ticker</th>\n",
       "      <th>date</th>\n",
       "      <th>time</th>\n",
       "      <th>title</th>\n",
       "    </tr>\n",
       "  </thead>\n",
       "  <tbody>\n",
       "    <tr>\n",
       "      <th>195</th>\n",
       "      <td>GOOG</td>\n",
       "      <td>Mar-27-24</td>\n",
       "      <td>03:32PM</td>\n",
       "      <td>A 'nightmare' new ChatGPT crypto scam is flood...</td>\n",
       "    </tr>\n",
       "    <tr>\n",
       "      <th>196</th>\n",
       "      <td>GOOG</td>\n",
       "      <td>Mar-27-24</td>\n",
       "      <td>01:54PM</td>\n",
       "      <td>Google will let you swipe right or left on clo...</td>\n",
       "    </tr>\n",
       "    <tr>\n",
       "      <th>197</th>\n",
       "      <td>GOOG</td>\n",
       "      <td>Mar-27-24</td>\n",
       "      <td>01:35PM</td>\n",
       "      <td>Hedge Fund and Insider Trading News: Bill Ackm...</td>\n",
       "    </tr>\n",
       "    <tr>\n",
       "      <th>198</th>\n",
       "      <td>GOOG</td>\n",
       "      <td>Mar-27-24</td>\n",
       "      <td>12:57PM</td>\n",
       "      <td>Bragg Gaming Group Inc. (NASDAQ:BRAG) Q4 2023 ...</td>\n",
       "    </tr>\n",
       "    <tr>\n",
       "      <th>199</th>\n",
       "      <td>GOOG</td>\n",
       "      <td>Mar-27-24</td>\n",
       "      <td>12:54PM</td>\n",
       "      <td>McCormick &amp; Company, Incorporated (NYSE:MKC) Q...</td>\n",
       "    </tr>\n",
       "  </tbody>\n",
       "</table>\n",
       "</div>"
      ],
      "text/plain": [
       "    ticker       date     time  \\\n",
       "195   GOOG  Mar-27-24  03:32PM   \n",
       "196   GOOG  Mar-27-24  01:54PM   \n",
       "197   GOOG  Mar-27-24  01:35PM   \n",
       "198   GOOG  Mar-27-24  12:57PM   \n",
       "199   GOOG  Mar-27-24  12:54PM   \n",
       "\n",
       "                                                 title  \n",
       "195  A 'nightmare' new ChatGPT crypto scam is flood...  \n",
       "196  Google will let you swipe right or left on clo...  \n",
       "197  Hedge Fund and Insider Trading News: Bill Ackm...  \n",
       "198  Bragg Gaming Group Inc. (NASDAQ:BRAG) Q4 2023 ...  \n",
       "199  McCormick & Company, Incorporated (NYSE:MKC) Q...  "
      ]
     },
     "execution_count": 76,
     "metadata": {},
     "output_type": "execute_result"
    }
   ],
   "source": [
    "df.tail()"
   ]
  },
  {
   "cell_type": "code",
   "execution_count": 77,
   "id": "59da7385",
   "metadata": {},
   "outputs": [],
   "source": [
    "vader = SentimentIntensityAnalyzer()\n",
    "\n",
    "f = lambda title: vader.polarity_scores(title)['compound']\n",
    "df['compound'] = df['title'].apply(f)"
   ]
  },
  {
   "cell_type": "code",
   "execution_count": 78,
   "id": "bca0ed26",
   "metadata": {},
   "outputs": [
    {
     "data": {
      "text/html": [
       "<div>\n",
       "<style scoped>\n",
       "    .dataframe tbody tr th:only-of-type {\n",
       "        vertical-align: middle;\n",
       "    }\n",
       "\n",
       "    .dataframe tbody tr th {\n",
       "        vertical-align: top;\n",
       "    }\n",
       "\n",
       "    .dataframe thead th {\n",
       "        text-align: right;\n",
       "    }\n",
       "</style>\n",
       "<table border=\"1\" class=\"dataframe\">\n",
       "  <thead>\n",
       "    <tr style=\"text-align: right;\">\n",
       "      <th></th>\n",
       "      <th>ticker</th>\n",
       "      <th>date</th>\n",
       "      <th>time</th>\n",
       "      <th>title</th>\n",
       "      <th>compound</th>\n",
       "    </tr>\n",
       "  </thead>\n",
       "  <tbody>\n",
       "    <tr>\n",
       "      <th>195</th>\n",
       "      <td>GOOG</td>\n",
       "      <td>Mar-27-24</td>\n",
       "      <td>03:32PM</td>\n",
       "      <td>A 'nightmare' new ChatGPT crypto scam is flood...</td>\n",
       "      <td>-0.5719</td>\n",
       "    </tr>\n",
       "    <tr>\n",
       "      <th>196</th>\n",
       "      <td>GOOG</td>\n",
       "      <td>Mar-27-24</td>\n",
       "      <td>01:54PM</td>\n",
       "      <td>Google will let you swipe right or left on clo...</td>\n",
       "      <td>0.4404</td>\n",
       "    </tr>\n",
       "    <tr>\n",
       "      <th>197</th>\n",
       "      <td>GOOG</td>\n",
       "      <td>Mar-27-24</td>\n",
       "      <td>01:35PM</td>\n",
       "      <td>Hedge Fund and Insider Trading News: Bill Ackm...</td>\n",
       "      <td>0.0000</td>\n",
       "    </tr>\n",
       "    <tr>\n",
       "      <th>198</th>\n",
       "      <td>GOOG</td>\n",
       "      <td>Mar-27-24</td>\n",
       "      <td>12:57PM</td>\n",
       "      <td>Bragg Gaming Group Inc. (NASDAQ:BRAG) Q4 2023 ...</td>\n",
       "      <td>0.0000</td>\n",
       "    </tr>\n",
       "    <tr>\n",
       "      <th>199</th>\n",
       "      <td>GOOG</td>\n",
       "      <td>Mar-27-24</td>\n",
       "      <td>12:54PM</td>\n",
       "      <td>McCormick &amp; Company, Incorporated (NYSE:MKC) Q...</td>\n",
       "      <td>0.0000</td>\n",
       "    </tr>\n",
       "  </tbody>\n",
       "</table>\n",
       "</div>"
      ],
      "text/plain": [
       "    ticker       date     time  \\\n",
       "195   GOOG  Mar-27-24  03:32PM   \n",
       "196   GOOG  Mar-27-24  01:54PM   \n",
       "197   GOOG  Mar-27-24  01:35PM   \n",
       "198   GOOG  Mar-27-24  12:57PM   \n",
       "199   GOOG  Mar-27-24  12:54PM   \n",
       "\n",
       "                                                 title  compound  \n",
       "195  A 'nightmare' new ChatGPT crypto scam is flood...   -0.5719  \n",
       "196  Google will let you swipe right or left on clo...    0.4404  \n",
       "197  Hedge Fund and Insider Trading News: Bill Ackm...    0.0000  \n",
       "198  Bragg Gaming Group Inc. (NASDAQ:BRAG) Q4 2023 ...    0.0000  \n",
       "199  McCormick & Company, Incorporated (NYSE:MKC) Q...    0.0000  "
      ]
     },
     "execution_count": 78,
     "metadata": {},
     "output_type": "execute_result"
    }
   ],
   "source": [
    "df.tail()"
   ]
  },
  {
   "cell_type": "code",
   "execution_count": 116,
   "id": "0b5341d8",
   "metadata": {},
   "outputs": [],
   "source": [
    "def convert_to_date(date_str):\n",
    "    if date_str == 'Today':\n",
    "        return datetime.today().date()\n",
    "    else:\n",
    "        return pd.to_datetime(date_str, errors='coerce')\n",
    "\n",
    "# Apply the function to the 'date' column\n",
    "df['date'] = df['date'].apply(convert_to_date)"
   ]
  },
  {
   "cell_type": "code",
   "execution_count": 117,
   "id": "d952c03b",
   "metadata": {},
   "outputs": [
    {
     "data": {
      "text/html": [
       "<div>\n",
       "<style scoped>\n",
       "    .dataframe tbody tr th:only-of-type {\n",
       "        vertical-align: middle;\n",
       "    }\n",
       "\n",
       "    .dataframe tbody tr th {\n",
       "        vertical-align: top;\n",
       "    }\n",
       "\n",
       "    .dataframe thead th {\n",
       "        text-align: right;\n",
       "    }\n",
       "</style>\n",
       "<table border=\"1\" class=\"dataframe\">\n",
       "  <thead>\n",
       "    <tr style=\"text-align: right;\">\n",
       "      <th></th>\n",
       "      <th>ticker</th>\n",
       "      <th>date</th>\n",
       "      <th>time</th>\n",
       "      <th>title</th>\n",
       "      <th>compound</th>\n",
       "    </tr>\n",
       "  </thead>\n",
       "  <tbody>\n",
       "    <tr>\n",
       "      <th>0</th>\n",
       "      <td>AMZN</td>\n",
       "      <td>2024-03-31</td>\n",
       "      <td>06:00PM</td>\n",
       "      <td>The 10 Best Kirkland Products at Costco</td>\n",
       "      <td>0.6369</td>\n",
       "    </tr>\n",
       "    <tr>\n",
       "      <th>1</th>\n",
       "      <td>AMZN</td>\n",
       "      <td>2024-03-31</td>\n",
       "      <td>11:02AM</td>\n",
       "      <td>15 Spectacular Floating Hotels Around The World</td>\n",
       "      <td>0.0000</td>\n",
       "    </tr>\n",
       "    <tr>\n",
       "      <th>2</th>\n",
       "      <td>AMZN</td>\n",
       "      <td>2024-03-31</td>\n",
       "      <td>10:47AM</td>\n",
       "      <td>3 No-Brainer Stocks to Buy Right Now With $1,0...</td>\n",
       "      <td>0.0000</td>\n",
       "    </tr>\n",
       "    <tr>\n",
       "      <th>3</th>\n",
       "      <td>AMZN</td>\n",
       "      <td>2024-03-31</td>\n",
       "      <td>08:30AM</td>\n",
       "      <td>3 Magnificent Stocks That I'm \"Never\" Selling</td>\n",
       "      <td>0.5994</td>\n",
       "    </tr>\n",
       "    <tr>\n",
       "      <th>4</th>\n",
       "      <td>AMZN</td>\n",
       "      <td>2024-03-31</td>\n",
       "      <td>06:35AM</td>\n",
       "      <td>Forget Nvidia: This Artificial Intelligence (A...</td>\n",
       "      <td>0.7269</td>\n",
       "    </tr>\n",
       "  </tbody>\n",
       "</table>\n",
       "</div>"
      ],
      "text/plain": [
       "  ticker        date     time  \\\n",
       "0   AMZN  2024-03-31  06:00PM   \n",
       "1   AMZN  2024-03-31  11:02AM   \n",
       "2   AMZN  2024-03-31  10:47AM   \n",
       "3   AMZN  2024-03-31  08:30AM   \n",
       "4   AMZN  2024-03-31  06:35AM   \n",
       "\n",
       "                                               title  compound  \n",
       "0            The 10 Best Kirkland Products at Costco    0.6369  \n",
       "1    15 Spectacular Floating Hotels Around The World    0.0000  \n",
       "2  3 No-Brainer Stocks to Buy Right Now With $1,0...    0.0000  \n",
       "3      3 Magnificent Stocks That I'm \"Never\" Selling    0.5994  \n",
       "4  Forget Nvidia: This Artificial Intelligence (A...    0.7269  "
      ]
     },
     "execution_count": 117,
     "metadata": {},
     "output_type": "execute_result"
    }
   ],
   "source": [
    "df.head()"
   ]
  },
  {
   "cell_type": "code",
   "execution_count": 120,
   "id": "a72af85f",
   "metadata": {},
   "outputs": [
    {
     "data": {
      "text/plain": [
       "<Figure size 1000x800 with 0 Axes>"
      ]
     },
     "execution_count": 120,
     "metadata": {},
     "output_type": "execute_result"
    },
    {
     "data": {
      "text/plain": [
       "<Figure size 1000x800 with 0 Axes>"
      ]
     },
     "metadata": {},
     "output_type": "display_data"
    }
   ],
   "source": [
    "plt.figure(figsize=(10,8))"
   ]
  },
  {
   "cell_type": "code",
   "execution_count": 135,
   "id": "5e0f4acb",
   "metadata": {},
   "outputs": [],
   "source": [
    "df['date'] = pd.to_datetime(df['date'])\n",
    "mean_df = df.groupby(['ticker', 'date'])['compound'].mean().unstack()"
   ]
  },
  {
   "cell_type": "code",
   "execution_count": 128,
   "id": "7d167b4b",
   "metadata": {},
   "outputs": [
    {
     "name": "stdout",
     "output_type": "stream",
     "text": [
      "date    2024-03-26  2024-03-27  2024-03-28  2024-03-29  2024-03-31\n",
      "ticker                                                            \n",
      "AMZN      0.101527    0.150663    0.257909    0.198375    0.339070\n",
      "GOOG           NaN    0.166988    0.214210    0.320886    0.192942\n"
     ]
    }
   ],
   "source": [
    "print(mean_df)"
   ]
  },
  {
   "cell_type": "code",
   "execution_count": 141,
   "id": "581e5573",
   "metadata": {},
   "outputs": [],
   "source": [
    "from matplotlib.dates import DateFormatter\n",
    "date_format = DateFormatter(\"%Y-%m-%d\")"
   ]
  },
  {
   "cell_type": "code",
   "execution_count": 148,
   "id": "d3a90917",
   "metadata": {},
   "outputs": [
    {
     "data": {
      "text/plain": [
       "<matplotlib.legend.Legend at 0x2002fac0310>"
      ]
     },
     "execution_count": 148,
     "metadata": {},
     "output_type": "execute_result"
    },
    {
     "data": {
      "image/png": "[encoded data removed]",
      "text/plain": [
       "<Figure size 640x480 with 1 Axes>"
      ]
     },
     "metadata": {},
     "output_type": "display_data"
    }
   ],
   "source": [
    "mean_df = mean_df.T\n",
    "mean_df.plot(kind='bar')\n",
    "plt.xlabel('Date')\n",
    "plt.ylabel('Value')\n",
    "plt.title('Mean Value by Date and Ticker')\n",
    "plt.xticks(rotation=45)\n",
    "plt.legend(title='Ticker')"
   ]
  },
  {
   "cell_type": "code",
   "execution_count": null,
   "id": "f72f1e2e",
   "metadata": {},
   "outputs": [],
   "source": []
  }
 ],
 "metadata": {
  "kernelspec": {
   "display_name": "Python 3 (ipykernel)",
   "language": "python",
   "name": "python3"
  },
  "language_info": {
   "codemirror_mode": {
    "name": "ipython",
    "version": 3
   },
   "file_extension": ".py",
   "mimetype": "text/x-python",
   "name": "python",
   "nbconvert_exporter": "python",
   "pygments_lexer": "ipython3",
   "version": "3.11.5"
  }
 },
 "nbformat": 4,
 "nbformat_minor": 5
}
